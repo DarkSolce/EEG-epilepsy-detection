{
 "cells": [
  {
   "cell_type": "code",
   "execution_count": 7,
   "id": "f2e89a73",
   "metadata": {},
   "outputs": [],
   "source": [
    "# 🧠 Epilepsy Seizure Detection - Notebook 01: Exploration\n",
    "# Dataset: CSV avec 11,233 échantillons × 36,865 features"
   ]
  },
  {
   "cell_type": "code",
   "execution_count": 8,
   "id": "136273b6",
   "metadata": {},
   "outputs": [],
   "source": [
    "import pandas as pd\n",
    "import numpy as np\n",
    "import matplotlib.pyplot as plt\n",
    "import seaborn as sns\n",
    "from sklearn.preprocessing import StandardScaler\n",
    "from sklearn.decomposition import PCA\n",
    "import warnings\n",
    "warnings.filterwarnings('ignore')"
   ]
  },
  {
   "cell_type": "code",
   "execution_count": 9,
   "id": "4c8a1533",
   "metadata": {},
   "outputs": [],
   "source": [
    "# Configuration des graphiques\n",
    "plt.style.use('default')\n",
    "sns.set_palette(\"husl\")"
   ]
  },
  {
   "cell_type": "code",
   "execution_count": 10,
   "id": "550287f7",
   "metadata": {},
   "outputs": [
    {
     "name": "stdout",
     "output_type": "stream",
     "text": [
      "🧠 Exploration du Dataset EEG pour Détection d'Épilepsie\n",
      "============================================================\n"
     ]
    }
   ],
   "source": [
    "print(\"🧠 Exploration du Dataset EEG pour Détection d'Épilepsie\")\n",
    "print(\"=\" * 60)"
   ]
  },
  {
   "cell_type": "code",
   "execution_count": 11,
   "id": "e8c5f6bc",
   "metadata": {},
   "outputs": [],
   "source": [
    "# =============================================================================\n",
    "# 1️⃣ CHARGEMENT ET PREMIÈRE INSPECTION\n",
    "# =============================================================================\n"
   ]
  },
  {
   "cell_type": "code",
   "execution_count": 12,
   "id": "0e81747a",
   "metadata": {},
   "outputs": [
    {
     "name": "stdout",
     "output_type": "stream",
     "text": [
      "📂 Chargement du dataset...\n"
     ]
    }
   ],
   "source": [
    "# Chargement du dataset\n",
    "print(\"📂 Chargement du dataset...\")\n",
    "df = pd.read_csv('C:\\epilepsy-detection-project-main\\Data\\Raw\\EEG_Scaled_data.csv')  # Ajustez le nom si nécessaire"
   ]
  },
  {
   "cell_type": "code",
   "execution_count": 13,
   "id": "b52e5a54",
   "metadata": {},
   "outputs": [
    {
     "name": "stdout",
     "output_type": "stream",
     "text": [
      "✅ Dataset chargé avec succès!\n",
      "📊 Dimensions: 11,233 lignes × 36,865 colonnes\n",
      "💾 Taille en mémoire: 3312.8 MB\n"
     ]
    }
   ],
   "source": [
    "print(f\"✅ Dataset chargé avec succès!\")\n",
    "print(f\"📊 Dimensions: {df.shape[0]:,} lignes × {df.shape[1]:,} colonnes\")\n",
    "print(f\"💾 Taille en mémoire: {df.memory_usage(deep=True).sum() / 1e6:.1f} MB\")\n"
   ]
  },
  {
   "cell_type": "code",
   "execution_count": 14,
   "id": "9a605d0e",
   "metadata": {},
   "outputs": [
    {
     "name": "stdout",
     "output_type": "stream",
     "text": [
      "\n",
      "🔍 Aperçu des données:\n",
      "   Channel_1  Channel_2  Channel_3  Channel_4  Channel_5  Channel_6  \\\n",
      "0      0.647      0.149     -0.213     -0.199     -0.287     -0.187   \n",
      "1     -2.450     -2.788     -2.387     -1.370     -1.032     -1.037   \n",
      "2     -0.026     -0.123     -0.347     -0.348      0.027      0.162   \n",
      "3     -0.067     -0.153     -0.180     -0.210     -0.238     -0.183   \n",
      "4     -0.190     -0.299     -0.333     -0.199      0.182      0.261   \n",
      "\n",
      "   Channel_7  Channel_8  Channel_9  Channel_10  ...  Channel_36856  \\\n",
      "0      0.320      0.445      0.482       0.348  ...          0.076   \n",
      "1     -1.253     -1.702     -2.116      -2.019  ...          0.154   \n",
      "2      0.166     -0.045     -0.083      -0.037  ...          0.086   \n",
      "3     -0.147     -0.238     -0.305      -0.187  ...         -0.101   \n",
      "4      0.262     -0.075     -0.403      -0.232  ...          0.621   \n",
      "\n",
      "   Channel_36857  Channel_36858  Channel_36859  Channel_36860  Channel_36861  \\\n",
      "0          0.283          0.365         -0.013         -0.029          0.223   \n",
      "1         -0.023         -0.085          0.178          0.118         -0.030   \n",
      "2          0.262          0.319          0.028          0.144          0.255   \n",
      "3         -0.247         -0.271         -0.216         -0.144         -0.066   \n",
      "4          0.625          0.262          0.127          0.301          0.287   \n",
      "\n",
      "   Channel_36862  Channel_36863  Channel_36864  target  \n",
      "0          0.221          0.175          0.347       0  \n",
      "1          0.048          0.113          0.085       0  \n",
      "2          0.148          0.082          0.133       0  \n",
      "3          0.048         -0.127         -0.296       0  \n",
      "4          0.148          0.191          0.106       0  \n",
      "\n",
      "[5 rows x 36865 columns]\n"
     ]
    }
   ],
   "source": [
    "# Inspection des premières lignes\n",
    "print(\"\\n🔍 Aperçu des données:\")\n",
    "print(df.head())"
   ]
  },
  {
   "cell_type": "code",
   "execution_count": 15,
   "id": "eb4d3047",
   "metadata": {},
   "outputs": [
    {
     "name": "stdout",
     "output_type": "stream",
     "text": [
      "\n",
      "📋 Types de données:\n",
      "- Colonnes numériques: 36865\n",
      "- Colonnes object: 0\n"
     ]
    }
   ],
   "source": [
    "# Information sur les colonnes\n",
    "print(f\"\\n📋 Types de données:\")\n",
    "print(f\"- Colonnes numériques: {df.select_dtypes(include=[np.number]).shape[1]}\")\n",
    "print(f\"- Colonnes object: {df.select_dtypes(include=['object']).shape[1]}\")"
   ]
  },
  {
   "cell_type": "code",
   "execution_count": 16,
   "id": "366c8d4d",
   "metadata": {},
   "outputs": [],
   "source": [
    "# =============================================================================\n",
    "# 2️⃣ ANALYSE DE LA VARIABLE CIBLE\n",
    "# ============================================================================="
   ]
  },
  {
   "cell_type": "code",
   "execution_count": 17,
   "id": "3b6f538e",
   "metadata": {},
   "outputs": [
    {
     "name": "stdout",
     "output_type": "stream",
     "text": [
      "\n",
      "============================================================\n",
      "🎯 ANALYSE DE LA VARIABLE CIBLE\n",
      "============================================================\n"
     ]
    }
   ],
   "source": [
    "print(\"\\n\" + \"=\"*60)\n",
    "print(\"🎯 ANALYSE DE LA VARIABLE CIBLE\")\n",
    "print(\"=\"*60)"
   ]
  },
  {
   "cell_type": "code",
   "execution_count": 18,
   "id": "406f0627",
   "metadata": {},
   "outputs": [],
   "source": [
    "# Identifier la colonne cible (probablement 'y' ou 'target' ou dernière colonne)\n",
    "possible_targets = ['y', 'target', 'label', 'class', 'seizure']\n",
    "target_col = None"
   ]
  },
  {
   "cell_type": "code",
   "execution_count": 19,
   "id": "8bdc921b",
   "metadata": {},
   "outputs": [],
   "source": [
    "for col in possible_targets:\n",
    "    if col in df.columns:\n",
    "        target_col = col\n",
    "        break"
   ]
  },
  {
   "cell_type": "code",
   "execution_count": 20,
   "id": "fd2b2445",
   "metadata": {},
   "outputs": [
    {
     "name": "stdout",
     "output_type": "stream",
     "text": [
      "✅ Colonne cible identifiée: 'target'\n"
     ]
    }
   ],
   "source": [
    "if target_col is None:\n",
    "    # Prendre la dernière colonne par défaut\n",
    "    target_col = df.columns[-1]\n",
    "    print(f\"⚠️  Colonne cible supposée: '{target_col}'\")\n",
    "else:\n",
    "    print(f\"✅ Colonne cible identifiée: '{target_col}'\")\n"
   ]
  },
  {
   "cell_type": "code",
   "execution_count": 21,
   "id": "7d0888f6",
   "metadata": {},
   "outputs": [
    {
     "name": "stdout",
     "output_type": "stream",
     "text": [
      "📊 Valeurs uniques dans target: [0 1]\n"
     ]
    }
   ],
   "source": [
    "# Vérifier les valeurs uniques de la cible\n",
    "unique_values = df[target_col].unique()\n",
    "print(f\"📊 Valeurs uniques dans {target_col}: {unique_values}\")"
   ]
  },
  {
   "cell_type": "code",
   "execution_count": 40,
   "id": "ec27c967",
   "metadata": {},
   "outputs": [],
   "source": [
    "# Distribution de classes\n",
    "class_counts = df[target_col].value_counts()\n",
    "class_props = df[target_col].value_counts(normalize=True)"
   ]
  },
  {
   "cell_type": "code",
   "execution_count": 41,
   "id": "411b8c2b",
   "metadata": {},
   "outputs": [
    {
     "name": "stdout",
     "output_type": "stream",
     "text": [
      "\n",
      "📊 Distribution des classes:\n",
      "- Non-épileptique (0): 9,799 échantillons (87.2%)\n",
      "- Épileptique (1): 1,434 échantillons (12.8%)\n",
      "- Ratio de déséquilibre: 1:6.8\n"
     ]
    }
   ],
   "source": [
    "print(f\"\\n📊 Distribution des classes:\")\n",
    "print(f\"- Non-épileptique (0): {class_counts[0]:,} échantillons ({class_props[0]:.1%})\")\n",
    "print(f\"- Épileptique (1): {class_counts[1]:,} échantillons ({class_props[1]:.1%})\")\n",
    "print(f\"- Ratio de déséquilibre: 1:{class_counts[0]/class_counts[1]:.1f}\")"
   ]
  },
  {
   "cell_type": "code",
   "execution_count": 42,
   "id": "265bba36",
   "metadata": {},
   "outputs": [
    {
     "data": {
      "image/png": "[encoded data removed]",
      "text/plain": [
       "<Figure size 1200x500 with 2 Axes>"
      ]
     },
     "metadata": {},
     "output_type": "display_data"
    }
   ],
   "source": [
    "# Visualisation\n",
    "fig, axes = plt.subplots(1, 2, figsize=(12, 5))"
   ]
  },
  {
   "cell_type": "code",
   "execution_count": 26,
   "id": "3c09a259",
   "metadata": {},
   "outputs": [],
   "source": [
    "# Graphique en barres\n",
    "axes[0].bar(['Non-épileptique', 'Épileptique'], class_counts.values, \n",
    "            color=['skyblue', 'lightcoral'])\n",
    "axes[0].set_title('Distribution des Classes')\n",
    "axes[0].set_ylabel('Nombre d\\'échantillons')\n",
    "for i, v in enumerate(class_counts.values):\n",
    "    axes[0].text(i, v + 50, f'{v:,}', ha='center', fontweight='bold')"
   ]
  },
  {
   "cell_type": "code",
   "execution_count": 27,
   "id": "c73a17bf",
   "metadata": {},
   "outputs": [
    {
     "data": {
      "text/plain": [
       "Text(0.5, 1.0, 'Proportion des Classes')"
      ]
     },
     "execution_count": 27,
     "metadata": {},
     "output_type": "execute_result"
    }
   ],
   "source": [
    "# Graphique en secteurs\n",
    "axes[1].pie(class_counts.values, labels=['Non-épileptique', 'Épileptique'], \n",
    "            autopct='%1.1f%%', colors=['skyblue', 'lightcoral'])\n",
    "axes[1].set_title('Proportion des Classes')"
   ]
  },
  {
   "cell_type": "code",
   "execution_count": 28,
   "id": "b1692bce",
   "metadata": {},
   "outputs": [
    {
     "data": {
      "text/plain": [
       "<Figure size 640x480 with 0 Axes>"
      ]
     },
     "metadata": {},
     "output_type": "display_data"
    }
   ],
   "source": [
    "plt.tight_layout()\n",
    "plt.show()"
   ]
  },
  {
   "cell_type": "code",
   "execution_count": 29,
   "id": "a04c5417",
   "metadata": {},
   "outputs": [],
   "source": [
    "# =============================================================================\n",
    "# 3️⃣ ANALYSE DES FEATURES EEG\n",
    "# ============================================================================="
   ]
  },
  {
   "cell_type": "code",
   "execution_count": 30,
   "id": "621e90df",
   "metadata": {},
   "outputs": [
    {
     "name": "stdout",
     "output_type": "stream",
     "text": [
      "\n",
      "============================================================\n",
      "🔬 ANALYSE DES FEATURES EEG\n",
      "============================================================\n"
     ]
    }
   ],
   "source": [
    "print(\"\\n\" + \"=\"*60)\n",
    "print(\"🔬 ANALYSE DES FEATURES EEG\")\n",
    "print(\"=\"*60)"
   ]
  },
  {
   "cell_type": "code",
   "execution_count": 31,
   "id": "fcf2c475",
   "metadata": {},
   "outputs": [],
   "source": [
    "# Séparer les features de la cible\n",
    "X = df.drop(columns=[target_col])\n",
    "y = df[target_col]"
   ]
  },
  {
   "cell_type": "code",
   "execution_count": 32,
   "id": "9fa52f10",
   "metadata": {},
   "outputs": [
    {
     "name": "stdout",
     "output_type": "stream",
     "text": [
      "📊 Nombre de features EEG: 36,865\n",
      "📊 Échantillons: 11,233\n"
     ]
    }
   ],
   "source": [
    "print(f\"📊 Nombre de features EEG: {X.shape[1]:,}\")\n",
    "print(f\"📊 Échantillons: {X.shape[0]:,}\")"
   ]
  },
  {
   "cell_type": "code",
   "execution_count": 33,
   "id": "e735d87f",
   "metadata": {},
   "outputs": [
    {
     "name": "stdout",
     "output_type": "stream",
     "text": [
      "\n",
      "📈 Statistiques descriptives des features:\n",
      "          Channel_1     Channel_2     Channel_3     Channel_4     Channel_5\n",
      "count  1.123300e+04  11233.000000  11233.000000  11233.000000  11233.000000\n",
      "mean  -3.560937e-07     -0.000006      0.000007     -0.000001     -0.000006\n",
      "std    1.000049e+00      1.000038      1.000041      1.000041      1.000044\n",
      "min   -1.459100e+01    -14.564000    -15.325000    -14.391000    -13.434000\n",
      "25%   -1.970000e-01     -0.213000     -0.210000     -0.202000     -0.196000\n",
      "50%   -4.000000e-03     -0.007000     -0.005000      0.003000      0.012000\n",
      "75%    1.930000e-01      0.191000      0.188000      0.193000      0.201000\n",
      "max    1.154900e+01     10.703000      9.743000      9.812000     11.948000\n"
     ]
    }
   ],
   "source": [
    "# Statistiques descriptives des features\n",
    "print(f\"\\n📈 Statistiques descriptives des features:\")\n",
    "feature_stats = X.describe()\n",
    "print(feature_stats.iloc[:, :5])  # Montrer seulement les 5 premières"
   ]
  },
  {
   "cell_type": "code",
   "execution_count": 34,
   "id": "216f0b3c",
   "metadata": {},
   "outputs": [
    {
     "name": "stdout",
     "output_type": "stream",
     "text": [
      "\n",
      "🔍 Valeurs manquantes: 0\n"
     ]
    }
   ],
   "source": [
    "# Valeurs manquantes\n",
    "missing_count = X.isnull().sum().sum()\n",
    "print(f\"\\n🔍 Valeurs manquantes: {missing_count}\")"
   ]
  },
  {
   "cell_type": "code",
   "execution_count": 35,
   "id": "b3fddef8",
   "metadata": {},
   "outputs": [],
   "source": [
    "if missing_count > 0:\n",
    "    missing_features = X.isnull().sum()[X.isnull().sum() > 0]\n",
    "    print(f\"Features avec valeurs manquantes: {len(missing_features)}\")"
   ]
  },
  {
   "cell_type": "code",
   "execution_count": 36,
   "id": "576c37cb",
   "metadata": {},
   "outputs": [
    {
     "name": "stdout",
     "output_type": "stream",
     "text": [
      "\n",
      "📊 Plages de valeurs:\n",
      "- Minimum global: -31.5180\n",
      "- Maximum global: 34.0690\n",
      "- Moyenne globale: 0.0000\n",
      "- Écart-type global: 1.0000\n"
     ]
    }
   ],
   "source": [
    "# Distribution des valeurs\n",
    "print(f\"\\n📊 Plages de valeurs:\")\n",
    "print(f\"- Minimum global: {X.min().min():.4f}\")\n",
    "print(f\"- Maximum global: {X.max().max():.4f}\")\n",
    "print(f\"- Moyenne globale: {X.mean().mean():.4f}\")\n",
    "print(f\"- Écart-type global: {X.std().mean():.4f}\")"
   ]
  },
  {
   "cell_type": "code",
   "execution_count": 37,
   "id": "2316d7ab",
   "metadata": {},
   "outputs": [
    {
     "name": "stdout",
     "output_type": "stream",
     "text": [
      "\n",
      "📊 Visualisation des premières features...\n"
     ]
    },
    {
     "data": {
      "image/png": "[encoded data removed]",
      "text/plain": [
       "<Figure size 1500x800 with 6 Axes>"
      ]
     },
     "metadata": {},
     "output_type": "display_data"
    }
   ],
   "source": [
    "# Visualisation de quelques features\n",
    "print(f\"\\n📊 Visualisation des premières features...\")\n",
    "fig, axes = plt.subplots(2, 3, figsize=(15, 8))\n",
    "axes = axes.ravel()"
   ]
  },
  {
   "cell_type": "code",
   "execution_count": 38,
   "id": "c49ffab2",
   "metadata": {},
   "outputs": [],
   "source": [
    "for i in range(min(6, X.shape[1])):\n",
    "    feature_name = X.columns[i]"
   ]
  },
  {
   "cell_type": "code",
   "execution_count": 43,
   "id": "27f3e49e",
   "metadata": {},
   "outputs": [
    {
     "name": "stdout",
     "output_type": "stream",
     "text": [
      "\n",
      "📊 Création des histogrammes...\n"
     ]
    },
    {
     "data": {
      "image/png": "[encoded data removed]",
      "text/plain": [
       "<Figure size 1500x800 with 6 Axes>"
      ]
     },
     "metadata": {},
     "output_type": "display_data"
    },
    {
     "name": "stdout",
     "output_type": "stream",
     "text": [
      "✅ Histogrammes générés avec succès!\n"
     ]
    }
   ],
   "source": [
    "print(\"\\n📊 Création des histogrammes...\")\n",
    "\n",
    "# Créer la figure\n",
    "fig, axes = plt.subplots(2, 3, figsize=(15, 8))\n",
    "axes = axes.ravel()  # Aplatir pour indexation facile\n",
    "\n",
    "# BOUCLE CORRECTEMENT INDENTÉE\n",
    "for i in range(min(6, X.shape[1])):\n",
    "    feature_name = X.columns[i]\n",
    "    \n",
    "    # ✅ INDENTATION CORRECTE (pas d'espaces supplémentaires)\n",
    "    axes[i].hist(X.loc[y==0, feature_name], alpha=0.7, label='Non-épileptique', \n",
    "                 bins=30, color='skyblue')\n",
    "    axes[i].hist(X.loc[y==1, feature_name], alpha=0.7, label='Épileptique', \n",
    "                 bins=30, color='lightcoral')\n",
    "    axes[i].set_title(f'Feature {i+1}: {feature_name[:20]}...')\n",
    "    axes[i].legend()\n",
    "    axes[i].grid(True, alpha=0.3)\n",
    "\n",
    "plt.tight_layout()\n",
    "plt.show()\n",
    "\n",
    "print(\"✅ Histogrammes générés avec succès!\")"
   ]
  },
  {
   "cell_type": "code",
   "execution_count": 44,
   "id": "86a84b13",
   "metadata": {},
   "outputs": [
    {
     "data": {
      "text/plain": [
       "<Figure size 640x480 with 0 Axes>"
      ]
     },
     "metadata": {},
     "output_type": "display_data"
    }
   ],
   "source": [
    "plt.tight_layout()\n",
    "plt.show()"
   ]
  },
  {
   "cell_type": "code",
   "execution_count": 45,
   "id": "80cbaf64",
   "metadata": {},
   "outputs": [],
   "source": [
    "# =============================================================================\n",
    "# 4️⃣ ANALYSE DE LA CORRÉLATION ET REDONDANCE\n",
    "# ============================================================================="
   ]
  },
  {
   "cell_type": "code",
   "execution_count": 46,
   "id": "74c27215",
   "metadata": {},
   "outputs": [
    {
     "name": "stdout",
     "output_type": "stream",
     "text": [
      "\n",
      "============================================================\n",
      "🔗 ANALYSE DE CORRÉLATION\n",
      "============================================================\n"
     ]
    }
   ],
   "source": [
    "print(\"\\n\" + \"=\"*60)\n",
    "print(\"🔗 ANALYSE DE CORRÉLATION\")\n",
    "print(\"=\"*60)"
   ]
  },
  {
   "cell_type": "code",
   "execution_count": 48,
   "id": "52bcc185",
   "metadata": {},
   "outputs": [
    {
     "name": "stdout",
     "output_type": "stream",
     "text": [
      "⏳ Calcul de la matrice de corrélation (échantillon de 1000 features)...\n"
     ]
    }
   ],
   "source": [
    "# Calculer la corrélation (sur un échantillon pour la performance)\n",
    "print(\"⏳ Calcul de la matrice de corrélation (échantillon de 1000 features)...\")\n",
    "sample_features = X.sample(n=min(1000, X.shape[1]), axis=1, random_state=42)\n",
    "corr_matrix = sample_features.corr()"
   ]
  },
  {
   "cell_type": "code",
   "execution_count": 49,
   "id": "de6afa0c",
   "metadata": {},
   "outputs": [],
   "source": [
    "# Statistiques sur les corrélations\n",
    "corr_values = corr_matrix.values\n",
    "corr_values = corr_values[np.triu_indices_from(corr_values, k=1)]  # Triangulaire supérieure"
   ]
  },
  {
   "cell_type": "code",
   "execution_count": 50,
   "id": "0f7c2451",
   "metadata": {},
   "outputs": [
    {
     "name": "stdout",
     "output_type": "stream",
     "text": [
      "📊 Statistiques des corrélations:\n",
      "- Corrélation moyenne: 0.0001\n",
      "- Corrélation médiane: -0.0005\n",
      "- Corrélations élevées (>0.9): 12\n",
      "- Corrélations moyennes (0.5-0.9): 193\n"
     ]
    }
   ],
   "source": [
    "print(f\"📊 Statistiques des corrélations:\")\n",
    "print(f\"- Corrélation moyenne: {np.mean(corr_values):.4f}\")\n",
    "print(f\"- Corrélation médiane: {np.median(corr_values):.4f}\")\n",
    "print(f\"- Corrélations élevées (>0.9): {np.sum(np.abs(corr_values) > 0.9):,}\")\n",
    "print(f\"- Corrélations moyennes (0.5-0.9): {np.sum((np.abs(corr_values) > 0.5) & (np.abs(corr_values) <= 0.9)):,}\")"
   ]
  },
  {
   "cell_type": "code",
   "execution_count": 51,
   "id": "083fbd70",
   "metadata": {},
   "outputs": [
    {
     "data": {
      "image/png": "[encoded data removed]",
      "text/plain": [
       "<Figure size 1000x800 with 2 Axes>"
      ]
     },
     "metadata": {},
     "output_type": "display_data"
    }
   ],
   "source": [
    "# Heatmap des corrélations (sous-échantillon)\n",
    "plt.figure(figsize=(10, 8))\n",
    "sample_small = sample_features.iloc[:50, :50]  # 50x50 pour la visualisation\n",
    "sns.heatmap(sample_small.corr(), cmap='coolwarm', center=0, \n",
    "            xticklabels=False, yticklabels=False)\n",
    "plt.title('Heatmap des Corrélations (Échantillon 50x50)')\n",
    "plt.show()"
   ]
  },
  {
   "cell_type": "code",
   "execution_count": 52,
   "id": "57df6132",
   "metadata": {},
   "outputs": [],
   "source": [
    "# =============================================================================\n",
    "# 5️⃣ ANALYSE DIMENSIONNELLE (PCA)\n",
    "# ============================================================================="
   ]
  },
  {
   "cell_type": "code",
   "execution_count": 53,
   "id": "95cc34a2",
   "metadata": {},
   "outputs": [
    {
     "name": "stdout",
     "output_type": "stream",
     "text": [
      "\n",
      "============================================================\n",
      "📐 ANALYSE DIMENSIONNELLE (PCA)\n",
      "============================================================\n"
     ]
    }
   ],
   "source": [
    "print(\"\\n\" + \"=\"*60)\n",
    "print(\"📐 ANALYSE DIMENSIONNELLE (PCA)\")\n",
    "print(\"=\"*60)"
   ]
  },
  {
   "cell_type": "code",
   "execution_count": 54,
   "id": "dcda271e",
   "metadata": {},
   "outputs": [
    {
     "name": "stdout",
     "output_type": "stream",
     "text": [
      "⏳ Calcul de l'ACP...\n"
     ]
    }
   ],
   "source": [
    "print(\"⏳ Calcul de l'ACP...\")"
   ]
  },
  {
   "cell_type": "code",
   "execution_count": 55,
   "id": "2de35a03",
   "metadata": {},
   "outputs": [],
   "source": [
    "# Standardisation nécessaire pour PCA\n",
    "scaler = StandardScaler()\n",
    "X_scaled = scaler.fit_transform(X)"
   ]
  },
  {
   "cell_type": "code",
   "execution_count": 57,
   "id": "566fd320",
   "metadata": {},
   "outputs": [
    {
     "data": {
      "text/html": [
       "<style>#sk-container-id-1 {\n",
       "  /* Definition of color scheme common for light and dark mode */\n",
       "  --sklearn-color-text: #000;\n",
       "  --sklearn-color-text-muted: #666;\n",
       "  --sklearn-color-line: gray;\n",
       "  /* Definition of color scheme for unfitted estimators */\n",
       "  --sklearn-color-unfitted-level-0: #fff5e6;\n",
       "  --sklearn-color-unfitted-level-1: #f6e4d2;\n",
       "  --sklearn-color-unfitted-level-2: #ffe0b3;\n",
       "  --sklearn-color-unfitted-level-3: chocolate;\n",
       "  /* Definition of color scheme for fitted estimators */\n",
       "  --sklearn-color-fitted-level-0: #f0f8ff;\n",
       "  --sklearn-color-fitted-level-1: #d4ebff;\n",
       "  --sklearn-color-fitted-level-2: #b3dbfd;\n",
       "  --sklearn-color-fitted-level-3: cornflowerblue;\n",
       "\n",
       "  /* Specific color for light theme */\n",
       "  --sklearn-color-text-on-default-background: var(--sg-text-color, var(--theme-code-foreground, var(--jp-content-font-color1, black)));\n",
       "  --sklearn-color-background: var(--sg-background-color, var(--theme-background, var(--jp-layout-color0, white)));\n",
       "  --sklearn-color-border-box: var(--sg-text-color, var(--theme-code-foreground, var(--jp-content-font-color1, black)));\n",
       "  --sklearn-color-icon: #696969;\n",
       "\n",
       "  @media (prefers-color-scheme: dark) {\n",
       "    /* Redefinition of color scheme for dark theme */\n",
       "    --sklearn-color-text-on-default-background: var(--sg-text-color, var(--theme-code-foreground, var(--jp-content-font-color1, white)));\n",
       "    --sklearn-color-background: var(--sg-background-color, var(--theme-background, var(--jp-layout-color0, #111)));\n",
       "    --sklearn-color-border-box: var(--sg-text-color, var(--theme-code-foreground, var(--jp-content-font-color1, white)));\n",
       "    --sklearn-color-icon: #878787;\n",
       "  }\n",
       "}\n",
       "\n",
       "#sk-container-id-1 {\n",
       "  color: var(--sklearn-color-text);\n",
       "}\n",
       "\n",
       "#sk-container-id-1 pre {\n",
       "  padding: 0;\n",
       "}\n",
       "\n",
       "#sk-container-id-1 input.sk-hidden--visually {\n",
       "  border: 0;\n",
       "  clip: rect(1px 1px 1px 1px);\n",
       "  clip: rect(1px, 1px, 1px, 1px);\n",
       "  height: 1px;\n",
       "  margin: -1px;\n",
       "  overflow: hidden;\n",
       "  padding: 0;\n",
       "  position: absolute;\n",
       "  width: 1px;\n",
       "}\n",
       "\n",
       "#sk-container-id-1 div.sk-dashed-wrapped {\n",
       "  border: 1px dashed var(--sklearn-color-line);\n",
       "  margin: 0 0.4em 0.5em 0.4em;\n",
       "  box-sizing: border-box;\n",
       "  padding-bottom: 0.4em;\n",
       "  background-color: var(--sklearn-color-background);\n",
       "}\n",
       "\n",
       "#sk-container-id-1 div.sk-container {\n",
       "  /* jupyter's `normalize.less` sets `[hidden] { display: none; }`\n",
       "     but bootstrap.min.css set `[hidden] { display: none !important; }`\n",
       "     so we also need the `!important` here to be able to override the\n",
       "     default hidden behavior on the sphinx rendered scikit-learn.org.\n",
       "     See: https://github.com/scikit-learn/scikit-learn/issues/21755 */\n",
       "  display: inline-block !important;\n",
       "  position: relative;\n",
       "}\n",
       "\n",
       "#sk-container-id-1 div.sk-text-repr-fallback {\n",
       "  display: none;\n",
       "}\n",
       "\n",
       "div.sk-parallel-item,\n",
       "div.sk-serial,\n",
       "div.sk-item {\n",
       "  /* draw centered vertical line to link estimators */\n",
       "  background-image: linear-gradient(var(--sklearn-color-text-on-default-background), var(--sklearn-color-text-on-default-background));\n",
       "  background-size: 2px 100%;\n",
       "  background-repeat: no-repeat;\n",
       "  background-position: center center;\n",
       "}\n",
       "\n",
       "/* Parallel-specific style estimator block */\n",
       "\n",
       "#sk-container-id-1 div.sk-parallel-item::after {\n",
       "  content: \"\";\n",
       "  width: 100%;\n",
       "  border-bottom: 2px solid var(--sklearn-color-text-on-default-background);\n",
       "  flex-grow: 1;\n",
       "}\n",
       "\n",
       "#sk-container-id-1 div.sk-parallel {\n",
       "  display: flex;\n",
       "  align-items: stretch;\n",
       "  justify-content: center;\n",
       "  background-color: var(--sklearn-color-background);\n",
       "  position: relative;\n",
       "}\n",
       "\n",
       "#sk-container-id-1 div.sk-parallel-item {\n",
       "  display: flex;\n",
       "  flex-direction: column;\n",
       "}\n",
       "\n",
       "#sk-container-id-1 div.sk-parallel-item:first-child::after {\n",
       "  align-self: flex-end;\n",
       "  width: 50%;\n",
       "}\n",
       "\n",
       "#sk-container-id-1 div.sk-parallel-item:last-child::after {\n",
       "  align-self: flex-start;\n",
       "  width: 50%;\n",
       "}\n",
       "\n",
       "#sk-container-id-1 div.sk-parallel-item:only-child::after {\n",
       "  width: 0;\n",
       "}\n",
       "\n",
       "/* Serial-specific style estimator block */\n",
       "\n",
       "#sk-container-id-1 div.sk-serial {\n",
       "  display: flex;\n",
       "  flex-direction: column;\n",
       "  align-items: center;\n",
       "  background-color: var(--sklearn-color-background);\n",
       "  padding-right: 1em;\n",
       "  padding-left: 1em;\n",
       "}\n",
       "\n",
       "\n",
       "/* Toggleable style: style used for estimator/Pipeline/ColumnTransformer box that is\n",
       "clickable and can be expanded/collapsed.\n",
       "- Pipeline and ColumnTransformer use this feature and define the default style\n",
       "- Estimators will overwrite some part of the style using the `sk-estimator` class\n",
       "*/\n",
       "\n",
       "/* Pipeline and ColumnTransformer style (default) */\n",
       "\n",
       "#sk-container-id-1 div.sk-toggleable {\n",
       "  /* Default theme specific background. It is overwritten whether we have a\n",
       "  specific estimator or a Pipeline/ColumnTransformer */\n",
       "  background-color: var(--sklearn-color-background);\n",
       "}\n",
       "\n",
       "/* Toggleable label */\n",
       "#sk-container-id-1 label.sk-toggleable__label {\n",
       "  cursor: pointer;\n",
       "  display: flex;\n",
       "  width: 100%;\n",
       "  margin-bottom: 0;\n",
       "  padding: 0.5em;\n",
       "  box-sizing: border-box;\n",
       "  text-align: center;\n",
       "  align-items: start;\n",
       "  justify-content: space-between;\n",
       "  gap: 0.5em;\n",
       "}\n",
       "\n",
       "#sk-container-id-1 label.sk-toggleable__label .caption {\n",
       "  font-size: 0.6rem;\n",
       "  font-weight: lighter;\n",
       "  color: var(--sklearn-color-text-muted);\n",
       "}\n",
       "\n",
       "#sk-container-id-1 label.sk-toggleable__label-arrow:before {\n",
       "  /* Arrow on the left of the label */\n",
       "  content: \"▸\";\n",
       "  float: left;\n",
       "  margin-right: 0.25em;\n",
       "  color: var(--sklearn-color-icon);\n",
       "}\n",
       "\n",
       "#sk-container-id-1 label.sk-toggleable__label-arrow:hover:before {\n",
       "  color: var(--sklearn-color-text);\n",
       "}\n",
       "\n",
       "/* Toggleable content - dropdown */\n",
       "\n",
       "#sk-container-id-1 div.sk-toggleable__content {\n",
       "  display: none;\n",
       "  text-align: left;\n",
       "  /* unfitted */\n",
       "  background-color: var(--sklearn-color-unfitted-level-0);\n",
       "}\n",
       "\n",
       "#sk-container-id-1 div.sk-toggleable__content.fitted {\n",
       "  /* fitted */\n",
       "  background-color: var(--sklearn-color-fitted-level-0);\n",
       "}\n",
       "\n",
       "#sk-container-id-1 div.sk-toggleable__content pre {\n",
       "  margin: 0.2em;\n",
       "  border-radius: 0.25em;\n",
       "  color: var(--sklearn-color-text);\n",
       "  /* unfitted */\n",
       "  background-color: var(--sklearn-color-unfitted-level-0);\n",
       "}\n",
       "\n",
       "#sk-container-id-1 div.sk-toggleable__content.fitted pre {\n",
       "  /* unfitted */\n",
       "  background-color: var(--sklearn-color-fitted-level-0);\n",
       "}\n",
       "\n",
       "#sk-container-id-1 input.sk-toggleable__control:checked~div.sk-toggleable__content {\n",
       "  /* Expand drop-down */\n",
       "  display: block;\n",
       "  width: 100%;\n",
       "  overflow: visible;\n",
       "}\n",
       "\n",
       "#sk-container-id-1 input.sk-toggleable__control:checked~label.sk-toggleable__label-arrow:before {\n",
       "  content: \"▾\";\n",
       "}\n",
       "\n",
       "/* Pipeline/ColumnTransformer-specific style */\n",
       "\n",
       "#sk-container-id-1 div.sk-label input.sk-toggleable__control:checked~label.sk-toggleable__label {\n",
       "  color: var(--sklearn-color-text);\n",
       "  background-color: var(--sklearn-color-unfitted-level-2);\n",
       "}\n",
       "\n",
       "#sk-container-id-1 div.sk-label.fitted input.sk-toggleable__control:checked~label.sk-toggleable__label {\n",
       "  background-color: var(--sklearn-color-fitted-level-2);\n",
       "}\n",
       "\n",
       "/* Estimator-specific style */\n",
       "\n",
       "/* Colorize estimator box */\n",
       "#sk-container-id-1 div.sk-estimator input.sk-toggleable__control:checked~label.sk-toggleable__label {\n",
       "  /* unfitted */\n",
       "  background-color: var(--sklearn-color-unfitted-level-2);\n",
       "}\n",
       "\n",
       "#sk-container-id-1 div.sk-estimator.fitted input.sk-toggleable__control:checked~label.sk-toggleable__label {\n",
       "  /* fitted */\n",
       "  background-color: var(--sklearn-color-fitted-level-2);\n",
       "}\n",
       "\n",
       "#sk-container-id-1 div.sk-label label.sk-toggleable__label,\n",
       "#sk-container-id-1 div.sk-label label {\n",
       "  /* The background is the default theme color */\n",
       "  color: var(--sklearn-color-text-on-default-background);\n",
       "}\n",
       "\n",
       "/* On hover, darken the color of the background */\n",
       "#sk-container-id-1 div.sk-label:hover label.sk-toggleable__label {\n",
       "  color: var(--sklearn-color-text);\n",
       "  background-color: var(--sklearn-color-unfitted-level-2);\n",
       "}\n",
       "\n",
       "/* Label box, darken color on hover, fitted */\n",
       "#sk-container-id-1 div.sk-label.fitted:hover label.sk-toggleable__label.fitted {\n",
       "  color: var(--sklearn-color-text);\n",
       "  background-color: var(--sklearn-color-fitted-level-2);\n",
       "}\n",
       "\n",
       "/* Estimator label */\n",
       "\n",
       "#sk-container-id-1 div.sk-label label {\n",
       "  font-family: monospace;\n",
       "  font-weight: bold;\n",
       "  display: inline-block;\n",
       "  line-height: 1.2em;\n",
       "}\n",
       "\n",
       "#sk-container-id-1 div.sk-label-container {\n",
       "  text-align: center;\n",
       "}\n",
       "\n",
       "/* Estimator-specific */\n",
       "#sk-container-id-1 div.sk-estimator {\n",
       "  font-family: monospace;\n",
       "  border: 1px dotted var(--sklearn-color-border-box);\n",
       "  border-radius: 0.25em;\n",
       "  box-sizing: border-box;\n",
       "  margin-bottom: 0.5em;\n",
       "  /* unfitted */\n",
       "  background-color: var(--sklearn-color-unfitted-level-0);\n",
       "}\n",
       "\n",
       "#sk-container-id-1 div.sk-estimator.fitted {\n",
       "  /* fitted */\n",
       "  background-color: var(--sklearn-color-fitted-level-0);\n",
       "}\n",
       "\n",
       "/* on hover */\n",
       "#sk-container-id-1 div.sk-estimator:hover {\n",
       "  /* unfitted */\n",
       "  background-color: var(--sklearn-color-unfitted-level-2);\n",
       "}\n",
       "\n",
       "#sk-container-id-1 div.sk-estimator.fitted:hover {\n",
       "  /* fitted */\n",
       "  background-color: var(--sklearn-color-fitted-level-2);\n",
       "}\n",
       "\n",
       "/* Specification for estimator info (e.g. \"i\" and \"?\") */\n",
       "\n",
       "/* Common style for \"i\" and \"?\" */\n",
       "\n",
       ".sk-estimator-doc-link,\n",
       "a:link.sk-estimator-doc-link,\n",
       "a:visited.sk-estimator-doc-link {\n",
       "  float: right;\n",
       "  font-size: smaller;\n",
       "  line-height: 1em;\n",
       "  font-family: monospace;\n",
       "  background-color: var(--sklearn-color-background);\n",
       "  border-radius: 1em;\n",
       "  height: 1em;\n",
       "  width: 1em;\n",
       "  text-decoration: none !important;\n",
       "  margin-left: 0.5em;\n",
       "  text-align: center;\n",
       "  /* unfitted */\n",
       "  border: var(--sklearn-color-unfitted-level-1) 1pt solid;\n",
       "  color: var(--sklearn-color-unfitted-level-1);\n",
       "}\n",
       "\n",
       ".sk-estimator-doc-link.fitted,\n",
       "a:link.sk-estimator-doc-link.fitted,\n",
       "a:visited.sk-estimator-doc-link.fitted {\n",
       "  /* fitted */\n",
       "  border: var(--sklearn-color-fitted-level-1) 1pt solid;\n",
       "  color: var(--sklearn-color-fitted-level-1);\n",
       "}\n",
       "\n",
       "/* On hover */\n",
       "div.sk-estimator:hover .sk-estimator-doc-link:hover,\n",
       ".sk-estimator-doc-link:hover,\n",
       "div.sk-label-container:hover .sk-estimator-doc-link:hover,\n",
       ".sk-estimator-doc-link:hover {\n",
       "  /* unfitted */\n",
       "  background-color: var(--sklearn-color-unfitted-level-3);\n",
       "  color: var(--sklearn-color-background);\n",
       "  text-decoration: none;\n",
       "}\n",
       "\n",
       "div.sk-estimator.fitted:hover .sk-estimator-doc-link.fitted:hover,\n",
       ".sk-estimator-doc-link.fitted:hover,\n",
       "div.sk-label-container:hover .sk-estimator-doc-link.fitted:hover,\n",
       ".sk-estimator-doc-link.fitted:hover {\n",
       "  /* fitted */\n",
       "  background-color: var(--sklearn-color-fitted-level-3);\n",
       "  color: var(--sklearn-color-background);\n",
       "  text-decoration: none;\n",
       "}\n",
       "\n",
       "/* Span, style for the box shown on hovering the info icon */\n",
       ".sk-estimator-doc-link span {\n",
       "  display: none;\n",
       "  z-index: 9999;\n",
       "  position: relative;\n",
       "  font-weight: normal;\n",
       "  right: .2ex;\n",
       "  padding: .5ex;\n",
       "  margin: .5ex;\n",
       "  width: min-content;\n",
       "  min-width: 20ex;\n",
       "  max-width: 50ex;\n",
       "  color: var(--sklearn-color-text);\n",
       "  box-shadow: 2pt 2pt 4pt #999;\n",
       "  /* unfitted */\n",
       "  background: var(--sklearn-color-unfitted-level-0);\n",
       "  border: .5pt solid var(--sklearn-color-unfitted-level-3);\n",
       "}\n",
       "\n",
       ".sk-estimator-doc-link.fitted span {\n",
       "  /* fitted */\n",
       "  background: var(--sklearn-color-fitted-level-0);\n",
       "  border: var(--sklearn-color-fitted-level-3);\n",
       "}\n",
       "\n",
       ".sk-estimator-doc-link:hover span {\n",
       "  display: block;\n",
       "}\n",
       "\n",
       "/* \"?\"-specific style due to the `<a>` HTML tag */\n",
       "\n",
       "#sk-container-id-1 a.estimator_doc_link {\n",
       "  float: right;\n",
       "  font-size: 1rem;\n",
       "  line-height: 1em;\n",
       "  font-family: monospace;\n",
       "  background-color: var(--sklearn-color-background);\n",
       "  border-radius: 1rem;\n",
       "  height: 1rem;\n",
       "  width: 1rem;\n",
       "  text-decoration: none;\n",
       "  /* unfitted */\n",
       "  color: var(--sklearn-color-unfitted-level-1);\n",
       "  border: var(--sklearn-color-unfitted-level-1) 1pt solid;\n",
       "}\n",
       "\n",
       "#sk-container-id-1 a.estimator_doc_link.fitted {\n",
       "  /* fitted */\n",
       "  border: var(--sklearn-color-fitted-level-1) 1pt solid;\n",
       "  color: var(--sklearn-color-fitted-level-1);\n",
       "}\n",
       "\n",
       "/* On hover */\n",
       "#sk-container-id-1 a.estimator_doc_link:hover {\n",
       "  /* unfitted */\n",
       "  background-color: var(--sklearn-color-unfitted-level-3);\n",
       "  color: var(--sklearn-color-background);\n",
       "  text-decoration: none;\n",
       "}\n",
       "\n",
       "#sk-container-id-1 a.estimator_doc_link.fitted:hover {\n",
       "  /* fitted */\n",
       "  background-color: var(--sklearn-color-fitted-level-3);\n",
       "}\n",
       "\n",
       ".estimator-table summary {\n",
       "    padding: .5rem;\n",
       "    font-family: monospace;\n",
       "    cursor: pointer;\n",
       "}\n",
       "\n",
       ".estimator-table details[open] {\n",
       "    padding-left: 0.1rem;\n",
       "    padding-right: 0.1rem;\n",
       "    padding-bottom: 0.3rem;\n",
       "}\n",
       "\n",
       ".estimator-table .parameters-table {\n",
       "    margin-left: auto !important;\n",
       "    margin-right: auto !important;\n",
       "}\n",
       "\n",
       ".estimator-table .parameters-table tr:nth-child(odd) {\n",
       "    background-color: #fff;\n",
       "}\n",
       "\n",
       ".estimator-table .parameters-table tr:nth-child(even) {\n",
       "    background-color: #f6f6f6;\n",
       "}\n",
       "\n",
       ".estimator-table .parameters-table tr:hover {\n",
       "    background-color: #e0e0e0;\n",
       "}\n",
       "\n",
       ".estimator-table table td {\n",
       "    border: 1px solid rgba(106, 105, 104, 0.232);\n",
       "}\n",
       "\n",
       ".user-set td {\n",
       "    color:rgb(255, 94, 0);\n",
       "    text-align: left;\n",
       "}\n",
       "\n",
       ".user-set td.value pre {\n",
       "    color:rgb(255, 94, 0) !important;\n",
       "    background-color: transparent !important;\n",
       "}\n",
       "\n",
       ".default td {\n",
       "    color: black;\n",
       "    text-align: left;\n",
       "}\n",
       "\n",
       ".user-set td i,\n",
       ".default td i {\n",
       "    color: black;\n",
       "}\n",
       "\n",
       ".copy-paste-icon {\n",
       "    background-image: url(data:image/svg+xml;base64,PHN2ZyB4bWxucz0iaHR0cDovL3d3dy53My5vcmcvMjAwMC9zdmciIHZpZXdCb3g9IjAgMCA0NDggNTEyIj48IS0tIUZvbnQgQXdlc29tZSBGcmVlIDYuNy4yIGJ5IEBmb250YXdlc29tZSAtIGh0dHBzOi8vZm9udGF3ZXNvbWUuY29tIExpY2Vuc2UgLSBodHRwczovL2ZvbnRhd2Vzb21lLmNvbS9saWNlbnNlL2ZyZWUgQ29weXJpZ2h0IDIwMjUgRm9udGljb25zLCBJbmMuLS0+PHBhdGggZD0iTTIwOCAwTDMzMi4xIDBjMTIuNyAwIDI0LjkgNS4xIDMzLjkgMTQuMWw2Ny45IDY3LjljOSA5IDE0LjEgMjEuMiAxNC4xIDMzLjlMNDQ4IDMzNmMwIDI2LjUtMjEuNSA0OC00OCA0OGwtMTkyIDBjLTI2LjUgMC00OC0yMS41LTQ4LTQ4bDAtMjg4YzAtMjYuNSAyMS41LTQ4IDQ4LTQ4ek00OCAxMjhsODAgMCAwIDY0LTY0IDAgMCAyNTYgMTkyIDAgMC0zMiA2NCAwIDAgNDhjMCAyNi41LTIxLjUgNDgtNDggNDhMNDggNTEyYy0yNi41IDAtNDgtMjEuNS00OC00OEwwIDE3NmMwLTI2LjUgMjEuNS00OCA0OC00OHoiLz48L3N2Zz4=);\n",
       "    background-repeat: no-repeat;\n",
       "    background-size: 14px 14px;\n",
       "    background-position: 0;\n",
       "    display: inline-block;\n",
       "    width: 14px;\n",
       "    height: 14px;\n",
       "    cursor: pointer;\n",
       "}\n",
       "</style><body><div id=\"sk-container-id-1\" class=\"sk-top-container\"><div class=\"sk-text-repr-fallback\"><pre>PCA()</pre><b>In a Jupyter environment, please rerun this cell to show the HTML representation or trust the notebook. <br />On GitHub, the HTML representation is unable to render, please try loading this page with nbviewer.org.</b></div><div class=\"sk-container\" hidden><div class=\"sk-item\"><div class=\"sk-estimator fitted sk-toggleable\"><input class=\"sk-toggleable__control sk-hidden--visually\" id=\"sk-estimator-id-1\" type=\"checkbox\" checked><label for=\"sk-estimator-id-1\" class=\"sk-toggleable__label fitted sk-toggleable__label-arrow\"><div><div>PCA</div></div><div><a class=\"sk-estimator-doc-link fitted\" rel=\"noreferrer\" target=\"_blank\" href=\"https://scikit-learn.org/1.7/modules/generated/sklearn.decomposition.PCA.html\">?<span>Documentation for PCA</span></a><span class=\"sk-estimator-doc-link fitted\">i<span>Fitted</span></span></div></label><div class=\"sk-toggleable__content fitted\" data-param-prefix=\"\">\n",
       "        <div class=\"estimator-table\">\n",
       "            <details>\n",
       "                <summary>Parameters</summary>\n",
       "                <table class=\"parameters-table\">\n",
       "                  <tbody>\n",
       "                    \n",
       "        <tr class=\"default\">\n",
       "            <td><i class=\"copy-paste-icon\"\n",
       "                 onclick=\"copyToClipboard('n_components',\n",
       "                          this.parentElement.nextElementSibling)\"\n",
       "            ></i></td>\n",
       "            <td class=\"param\">n_components&nbsp;</td>\n",
       "            <td class=\"value\">None</td>\n",
       "        </tr>\n",
       "    \n",
       "\n",
       "        <tr class=\"default\">\n",
       "            <td><i class=\"copy-paste-icon\"\n",
       "                 onclick=\"copyToClipboard('copy',\n",
       "                          this.parentElement.nextElementSibling)\"\n",
       "            ></i></td>\n",
       "            <td class=\"param\">copy&nbsp;</td>\n",
       "            <td class=\"value\">True</td>\n",
       "        </tr>\n",
       "    \n",
       "\n",
       "        <tr class=\"default\">\n",
       "            <td><i class=\"copy-paste-icon\"\n",
       "                 onclick=\"copyToClipboard('whiten',\n",
       "                          this.parentElement.nextElementSibling)\"\n",
       "            ></i></td>\n",
       "            <td class=\"param\">whiten&nbsp;</td>\n",
       "            <td class=\"value\">False</td>\n",
       "        </tr>\n",
       "    \n",
       "\n",
       "        <tr class=\"default\">\n",
       "            <td><i class=\"copy-paste-icon\"\n",
       "                 onclick=\"copyToClipboard('svd_solver',\n",
       "                          this.parentElement.nextElementSibling)\"\n",
       "            ></i></td>\n",
       "            <td class=\"param\">svd_solver&nbsp;</td>\n",
       "            <td class=\"value\">&#x27;auto&#x27;</td>\n",
       "        </tr>\n",
       "    \n",
       "\n",
       "        <tr class=\"default\">\n",
       "            <td><i class=\"copy-paste-icon\"\n",
       "                 onclick=\"copyToClipboard('tol',\n",
       "                          this.parentElement.nextElementSibling)\"\n",
       "            ></i></td>\n",
       "            <td class=\"param\">tol&nbsp;</td>\n",
       "            <td class=\"value\">0.0</td>\n",
       "        </tr>\n",
       "    \n",
       "\n",
       "        <tr class=\"default\">\n",
       "            <td><i class=\"copy-paste-icon\"\n",
       "                 onclick=\"copyToClipboard('iterated_power',\n",
       "                          this.parentElement.nextElementSibling)\"\n",
       "            ></i></td>\n",
       "            <td class=\"param\">iterated_power&nbsp;</td>\n",
       "            <td class=\"value\">&#x27;auto&#x27;</td>\n",
       "        </tr>\n",
       "    \n",
       "\n",
       "        <tr class=\"default\">\n",
       "            <td><i class=\"copy-paste-icon\"\n",
       "                 onclick=\"copyToClipboard('n_oversamples',\n",
       "                          this.parentElement.nextElementSibling)\"\n",
       "            ></i></td>\n",
       "            <td class=\"param\">n_oversamples&nbsp;</td>\n",
       "            <td class=\"value\">10</td>\n",
       "        </tr>\n",
       "    \n",
       "\n",
       "        <tr class=\"default\">\n",
       "            <td><i class=\"copy-paste-icon\"\n",
       "                 onclick=\"copyToClipboard('power_iteration_normalizer',\n",
       "                          this.parentElement.nextElementSibling)\"\n",
       "            ></i></td>\n",
       "            <td class=\"param\">power_iteration_normalizer&nbsp;</td>\n",
       "            <td class=\"value\">&#x27;auto&#x27;</td>\n",
       "        </tr>\n",
       "    \n",
       "\n",
       "        <tr class=\"default\">\n",
       "            <td><i class=\"copy-paste-icon\"\n",
       "                 onclick=\"copyToClipboard('random_state',\n",
       "                          this.parentElement.nextElementSibling)\"\n",
       "            ></i></td>\n",
       "            <td class=\"param\">random_state&nbsp;</td>\n",
       "            <td class=\"value\">None</td>\n",
       "        </tr>\n",
       "    \n",
       "                  </tbody>\n",
       "                </table>\n",
       "            </details>\n",
       "        </div>\n",
       "    </div></div></div></div></div><script>function copyToClipboard(text, element) {\n",
       "    // Get the parameter prefix from the closest toggleable content\n",
       "    const toggleableContent = element.closest('.sk-toggleable__content');\n",
       "    const paramPrefix = toggleableContent ? toggleableContent.dataset.paramPrefix : '';\n",
       "    const fullParamName = paramPrefix ? `${paramPrefix}${text}` : text;\n",
       "\n",
       "    const originalStyle = element.style;\n",
       "    const computedStyle = window.getComputedStyle(element);\n",
       "    const originalWidth = computedStyle.width;\n",
       "    const originalHTML = element.innerHTML.replace('Copied!', '');\n",
       "\n",
       "    navigator.clipboard.writeText(fullParamName)\n",
       "        .then(() => {\n",
       "            element.style.width = originalWidth;\n",
       "            element.style.color = 'green';\n",
       "            element.innerHTML = \"Copied!\";\n",
       "\n",
       "            setTimeout(() => {\n",
       "                element.innerHTML = originalHTML;\n",
       "                element.style = originalStyle;\n",
       "            }, 2000);\n",
       "        })\n",
       "        .catch(err => {\n",
       "            console.error('Failed to copy:', err);\n",
       "            element.style.color = 'red';\n",
       "            element.innerHTML = \"Failed!\";\n",
       "            setTimeout(() => {\n",
       "                element.innerHTML = originalHTML;\n",
       "                element.style = originalStyle;\n",
       "            }, 2000);\n",
       "        });\n",
       "    return false;\n",
       "}\n",
       "\n",
       "document.querySelectorAll('.fa-regular.fa-copy').forEach(function(element) {\n",
       "    const toggleableContent = element.closest('.sk-toggleable__content');\n",
       "    const paramPrefix = toggleableContent ? toggleableContent.dataset.paramPrefix : '';\n",
       "    const paramName = element.parentElement.nextElementSibling.textContent.trim();\n",
       "    const fullParamName = paramPrefix ? `${paramPrefix}${paramName}` : paramName;\n",
       "\n",
       "    element.setAttribute('title', fullParamName);\n",
       "});\n",
       "</script></body>"
      ],
      "text/plain": [
       "PCA()"
      ]
     },
     "execution_count": 57,
     "metadata": {},
     "output_type": "execute_result"
    }
   ],
   "source": [
    "# PCA avec composantes principales\n",
    "pca = PCA()\n",
    "pca.fit(X_scaled)"
   ]
  },
  {
   "cell_type": "code",
   "execution_count": 58,
   "id": "7cea0663",
   "metadata": {},
   "outputs": [],
   "source": [
    "# Variance expliquée\n",
    "cumsum_variance = np.cumsum(pca.explained_variance_ratio_)"
   ]
  },
  {
   "cell_type": "code",
   "execution_count": 59,
   "id": "b6db76fc",
   "metadata": {},
   "outputs": [],
   "source": [
    "# Trouver le nombre de composantes pour 95% et 99% de variance\n",
    "n_95 = np.argmax(cumsum_variance >= 0.95) + 1\n",
    "n_99 = np.argmax(cumsum_variance >= 0.99) + 1"
   ]
  },
  {
   "cell_type": "code",
   "execution_count": 60,
   "id": "e6e7b2d9",
   "metadata": {},
   "outputs": [
    {
     "name": "stdout",
     "output_type": "stream",
     "text": [
      "📊 Analyse de la variance expliquée:\n",
      "- Composantes pour 95% variance: 1,810 (4.9% des features)\n",
      "- Composantes pour 99% variance: 3,666 (9.9% des features)\n"
     ]
    }
   ],
   "source": [
    "print(f\"📊 Analyse de la variance expliquée:\")\n",
    "print(f\"- Composantes pour 95% variance: {n_95:,} ({n_95/X.shape[1]*100:.1f}% des features)\")\n",
    "print(f\"- Composantes pour 99% variance: {n_99:,} ({n_99/X.shape[1]*100:.1f}% des features)\")"
   ]
  },
  {
   "cell_type": "code",
   "execution_count": 61,
   "id": "a112aa08",
   "metadata": {},
   "outputs": [
    {
     "data": {
      "text/plain": [
       "<Figure size 1200x500 with 0 Axes>"
      ]
     },
     "execution_count": 61,
     "metadata": {},
     "output_type": "execute_result"
    },
    {
     "data": {
      "text/plain": [
       "<Figure size 1200x500 with 0 Axes>"
      ]
     },
     "metadata": {},
     "output_type": "display_data"
    }
   ],
   "source": [
    "# Graphique de variance expliquée\n",
    "plt.figure(figsize=(12, 5))"
   ]
  },
  {
   "cell_type": "code",
   "execution_count": 62,
   "id": "d987a505",
   "metadata": {},
   "outputs": [
    {
     "data": {
      "image/png": "[encoded data removed]",
      "text/plain": [
       "<Figure size 640x480 with 1 Axes>"
      ]
     },
     "metadata": {},
     "output_type": "display_data"
    }
   ],
   "source": [
    "plt.subplot(1, 2, 1)\n",
    "plt.plot(range(1, min(1000, len(pca.explained_variance_ratio_)) + 1), \n",
    "         cumsum_variance[:min(1000, len(cumsum_variance))], 'b-', linewidth=2)\n",
    "plt.axhline(y=0.95, color='r', linestyle='--', label='95%')\n",
    "plt.axhline(y=0.99, color='g', linestyle='--', label='99%')\n",
    "plt.xlabel('Nombre de Composantes')\n",
    "plt.ylabel('Variance Expliquée Cumulée')\n",
    "plt.title('Variance Expliquée par PCA')\n",
    "plt.legend()\n",
    "plt.grid(True, alpha=0.3)"
   ]
  },
  {
   "cell_type": "code",
   "execution_count": 63,
   "id": "c4fcd05a",
   "metadata": {},
   "outputs": [
    {
     "data": {
      "image/png": "[encoded data removed]",
      "text/plain": [
       "<Figure size 640x480 with 1 Axes>"
      ]
     },
     "metadata": {},
     "output_type": "display_data"
    }
   ],
   "source": [
    "plt.subplot(1, 2, 2)\n",
    "plt.bar(range(1, 21), pca.explained_variance_ratio_[:20], color='steelblue')\n",
    "plt.xlabel('Composantes Principales')\n",
    "plt.ylabel('Variance Expliquée')\n",
    "plt.title('Variance des 20 Premières Composantes')\n",
    "plt.grid(True, alpha=0.3)"
   ]
  },
  {
   "cell_type": "code",
   "execution_count": 64,
   "id": "05ffa8a9",
   "metadata": {},
   "outputs": [
    {
     "data": {
      "text/plain": [
       "<Figure size 640x480 with 0 Axes>"
      ]
     },
     "metadata": {},
     "output_type": "display_data"
    }
   ],
   "source": [
    "plt.tight_layout()\n",
    "plt.show()"
   ]
  },
  {
   "cell_type": "code",
   "execution_count": 65,
   "id": "9bcf4021",
   "metadata": {},
   "outputs": [],
   "source": [
    "# =============================================================================\n",
    "# 6️⃣ RÉSUMÉ ET RECOMMANDATIONS\n",
    "# ============================================================================="
   ]
  },
  {
   "cell_type": "code",
   "execution_count": 66,
   "id": "115515f9",
   "metadata": {},
   "outputs": [
    {
     "name": "stdout",
     "output_type": "stream",
     "text": [
      "\n",
      "============================================================\n",
      "📋 RÉSUMÉ DE L'EXPLORATION\n",
      "============================================================\n"
     ]
    }
   ],
   "source": [
    "print(\"\\n\" + \"=\"*60)\n",
    "print(\"📋 RÉSUMÉ DE L'EXPLORATION\")\n",
    "print(\"=\"*60)"
   ]
  },
  {
   "cell_type": "code",
   "execution_count": 67,
   "id": "cb7aee9d",
   "metadata": {},
   "outputs": [
    {
     "name": "stdout",
     "output_type": "stream",
     "text": [
      "\n",
      "🔬 CARACTÉRISTIQUES:\n",
      "   • Haute dimensionnalité (features >> échantillons)\n",
      "   • 1,810 composantes pour 95% de variance\n",
      "   • Données pré-normalisées\n"
     ]
    }
   ],
   "source": [
    "print(f\"\\n🔬 CARACTÉRISTIQUES:\")\n",
    "print(f\"   • Haute dimensionnalité (features >> échantillons)\")\n",
    "print(f\"   • {n_95:,} composantes pour 95% de variance\")\n",
    "print(f\"   • Données pré-normalisées\" if abs(X.mean().mean()) < 1 else \"   • Normalisation recommandée\")"
   ]
  },
  {
   "cell_type": "code",
   "execution_count": 68,
   "id": "ace1c3ce",
   "metadata": {},
   "outputs": [
    {
     "name": "stdout",
     "output_type": "stream",
     "text": [
      "\n",
      "💡 RECOMMANDATIONS POUR LA MODÉLISATION:\n",
      "   ✅ Priorité INTERPRÉTABILITÉ + PRÉCISION:\n",
      "      • Random Forest avec feature importance\n",
      "      • Logistic Regression avec régularisation L1\n",
      "      • XGBoost avec SHAP pour l'interprétation\n",
      "   ✅ Gestion du déséquilibre:\n",
      "      • Stratified sampling obligatoire\n",
      "      • Métriques: Précision, Rappel, F1, AUC-ROC\n",
      "      • Techniques: SMOTE ou class_weight\n",
      "   ✅ Réduction dimensionnelle:\n",
      "      • PCA à 1810 composantes (95% variance)\n",
      "      • Sélection de features par importance\n"
     ]
    }
   ],
   "source": [
    "print(f\"\\n💡 RECOMMANDATIONS POUR LA MODÉLISATION:\")\n",
    "print(f\"   ✅ Priorité INTERPRÉTABILITÉ + PRÉCISION:\")\n",
    "print(f\"      • Random Forest avec feature importance\")\n",
    "print(f\"      • Logistic Regression avec régularisation L1\")\n",
    "print(f\"      • XGBoost avec SHAP pour l'interprétation\")\n",
    "print(f\"   ✅ Gestion du déséquilibre:\")\n",
    "print(f\"      • Stratified sampling obligatoire\")\n",
    "print(f\"      • Métriques: Précision, Rappel, F1, AUC-ROC\")\n",
    "print(f\"      • Techniques: SMOTE ou class_weight\")\n",
    "print(f\"   ✅ Réduction dimensionnelle:\")\n",
    "print(f\"      • PCA à {n_95} composantes (95% variance)\")\n",
    "print(f\"      • Sélection de features par importance\")"
   ]
  },
  {
   "cell_type": "code",
   "execution_count": 69,
   "id": "016efb12",
   "metadata": {},
   "outputs": [
    {
     "name": "stdout",
     "output_type": "stream",
     "text": [
      "\n",
      "🚀 PROCHAINES ÉTAPES:\n",
      "   1. Feature selection (univariée + importance)\n",
      "   2. Validation croisée stratifiée\n",
      "   3. Modèles interprétables (RF, LogReg)\n",
      "   4. Analyse SHAP des prédictions\n"
     ]
    }
   ],
   "source": [
    "print(f\"\\n🚀 PROCHAINES ÉTAPES:\")\n",
    "print(f\"   1. Feature selection (univariée + importance)\")\n",
    "print(f\"   2. Validation croisée stratifiée\")\n",
    "print(f\"   3. Modèles interprétables (RF, LogReg)\")\n",
    "print(f\"   4. Analyse SHAP des prédictions\")"
   ]
  },
  {
   "cell_type": "code",
   "execution_count": 70,
   "id": "199b0562",
   "metadata": {},
   "outputs": [
    {
     "name": "stdout",
     "output_type": "stream",
     "text": [
      "\n",
      "✅ Exploration terminée ! Passez au notebook 02_preprocessing.ipynb\n"
     ]
    }
   ],
   "source": [
    "print(\"\\n✅ Exploration terminée ! Passez au notebook 02_preprocessing.ipynb\")"
   ]
  }
 ],
 "metadata": {
  "kernelspec": {
   "display_name": "Python 3",
   "language": "python",
   "name": "python3"
  },
  "language_info": {
   "codemirror_mode": {
    "name": "ipython",
    "version": 3
   },
   "file_extension": ".py",
   "mimetype": "text/x-python",
   "name": "python",
   "nbconvert_exporter": "python",
   "pygments_lexer": "ipython3",
   "version": "3.13.7"
  }
 },
 "nbformat": 4,
 "nbformat_minor": 5
}
